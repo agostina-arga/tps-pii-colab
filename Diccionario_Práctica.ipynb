{
  "nbformat": 4,
  "nbformat_minor": 0,
  "metadata": {
    "colab": {
      "provenance": [],
      "include_colab_link": true
    },
    "kernelspec": {
      "name": "python3",
      "display_name": "Python 3"
    },
    "language_info": {
      "name": "python"
    }
  },
  "cells": [
    {
      "cell_type": "markdown",
      "metadata": {
        "id": "view-in-github",
        "colab_type": "text"
      },
      "source": [
        "<a href=\"https://colab.research.google.com/github/agostina-arga/tps-pii-colab_copia/blob/main/Diccionario_Pr%C3%A1ctica.ipynb\" target=\"_parent\"><img src=\"https://colab.research.google.com/assets/colab-badge.svg\" alt=\"Open In Colab\"/></a>"
      ]
    },
    {
      "cell_type": "code",
      "execution_count": 1,
      "metadata": {
        "id": "8VOD-zpMJovw"
      },
      "outputs": [],
      "source": [
        "# Listas de alumnos\n",
        "estudiantes_5d = [\n",
        "   (\"Alurralde, Solange Stefania\",\"D\",\"02/04/2007\"),\n",
        "   (\"Alvarado, Ludmila Del Milagro\",\"D\",\"06/09/2006\"),\n",
        "   (\"Angel, Camila Juliana\",\"D\",\"07/03/2007\"),\n",
        "   (\"Arenas, Lucas Gabriel\",\"D\",\"26/06/2007\"),\n",
        "   (\"Caseres, Maria Antonia\",\"D\",\"01/07/2006\"),\n",
        "   (\"Castillo, Paulina Milagros\",\"D\",\"01/06/2007\"),\n",
        "   (\"Correa Segovia, Hugo Mariano\",\"D\",\"04/12/2006\"),\n",
        "   (\"D Elia, Alvaro Tadeo\",\"D\",\"27/08/2006\"),\n",
        "   (\"Flores, Victoria Agustina\",\"D\",\"12/12/2006\"),\n",
        "   (\"Geronimo Soriano, Lizzie Amaya\",\"D\",\"20/01/2007\"),\n",
        "   (\"GUZMAN, ANGÉLICA MORENA\",\"D\",\"11/04/2007\"),\n",
        "   (\"Guzman, Jazmin Esmeralda Belen\",\"D\",\"31/07/2006\"),\n",
        "   (\"Jaime, Anita Maria Belen\",\"D\",\"19/04/2007\"),\n",
        "   (\"Lacour Polo, Nazarena\",\"D\",\"19/12/2005\"),\n",
        "   (\"Lascano Guanca, Marcelo Fabricio\",\"D\",\"17/02/2006\"),\n",
        "   (\"Lezcano, Celia Morena\",\"D\",\"01/07/2005\"),\n",
        "   (\"Martinez, Tomas Andres\",\"D\",\"22/03/2007\"),\n",
        "   (\"PORTELLA VALDIVIA, PEDRO FRANCISCO\",\"D\",\"24/01/2007\"),\n",
        "   (\"Retamal Cisneros, Zacarias Josue\",\"D\",\"24/02/2007\"),\n",
        "   (\"Rosales, Francisco Gabriel\",\"D\",\"14/11/2006\"),\n",
        "   (\"Salem Barba, Mahia\",\"D\",\"14/10/2005\"),\n",
        "   (\"Soto Camara, Agustin Ignacio\",\"D\",\"07/11/2005\"),\n",
        "   (\"Villalba, Irina\",\"D\",\"09/09/2006\"),\n",
        "   (\"Voltolini, Emanuel Tobias\",\"D\",\"17/09/2006\"),\n",
        "   (\"Zalazar, Santino Stefano\",\"D\",\"30/09/2006\")\n",
        "]\n",
        "\n",
        "estudiantes_5c=[\n",
        "    (\"ABUD LASPIUR, LOURDES MARIEL\",\"C\",\"05/12/2006\"),\n",
        "    (\"Amador, Luana Micaela\",\"C\",\"09/12/2006\"),\n",
        "    (\"Anaquin, Leonardo Ezequiel\",\"C\",\"06/09/2005\"),\n",
        "    (\"Araoz Sanchez, Lautaro Nahuel\",\"C\",\"28/12/2005\"),\n",
        "    (\"Argañaraz, Agostina Abril\",\"C\",\"11/10/2006\"),\n",
        "    (\"Barrera, Matias Ezequiel\",\"C\",\"27/02/2007\"),\n",
        "    (\"Barrozo Vedia, Joaquin Nicolas\",\"C\",\"15/04/2006\"),\n",
        "    (\"Bettinelli, Valentino\",\"C\",\"12/07/2006\"),\n",
        "    (\"Bracamonte Martinez, Salvador\",\"C\",\"02/11/2005\"),\n",
        "    (\"Colque Rivero, Ariana Zoe Del Valle\",\"C\",\"27/12/2006\"),\n",
        "    (\"Diaz, Dulce Maitena\",\"C\",\"11/12/2006\"),\n",
        "    (\"FIGUEROA, SANTINO JOSUE\",\"C\",\"12/05/2007\"),\n",
        "    (\"Flores Cardozo, Agustina Tiara\",\"C\",\"18/03/2006\"),\n",
        "    (\"Gallo, Octavio Ismael\",\"C\",\"04/08/2006\"),\n",
        "    (\"Galvan, Lourdes Yamila\",\"C\",\"19/08/2005\"),\n",
        "    (\"Giangreco, Vitto Tomasso\",\"C\",\"21/03/2007\"),\n",
        "    (\"Grancara, Martina Luna\",\"C\",\"15/12/2006\"),\n",
        "    (\"Guanca, Sara Elizabeth\",\"C\",\"17/01/2007\"),\n",
        "    (\"Lopez, Victoria Constanza\",\"C\",\"12/11/2007\"),\n",
        "    (\"Mamani Garrido, Rosario Agostina\",\"C\",\"24/10/2006\"),\n",
        "    (\"Marinaro, Martin Ezequiel\",\"C\",\"03/11/2006\"),\n",
        "    (\"Merluzzi Dagum, Ignacio\",\"C\",\"22/12/2005\"),\n",
        "    (\"Messina, Martina\",\"C\",\"13/07/2005\"),\n",
        "    (\"RASUK, KARIM\", \"C\",\"13/07/2007\"),\n",
        "    (\"Rios, Lucia Magali\",\"C\",\"22/09/2006\"),\n",
        "    (\"Sanchez Flores, Matías Agustín\",\"C\",\"15/02/2007\"),\n",
        "    (\"Scarano, Renato Marcelo\",\"C\",\"06/12/2006\"),\n",
        "    (\"Sierra, Lucas Mauricio\",\"C\",\"03/04/2005\"),\n",
        "    (\"Tapia, Martin Gabriel\",\"C\",\"30/05/2006\"),\n",
        "    (\"Vilte, Mia Antonella Alondra\",\"C\",\"10/09/2005\"),\n",
        "    (\"Virgillito, Katya Milena\",\"C\",\"19/06/2007\")\n",
        "]"
      ]
    },
    {
      "cell_type": "markdown",
      "source": [
        "## Dada la lista estudiantes:\n",
        "> - Hacer una celda para resolver cada punto.\n",
        "- El TP resuelto será revisado en tu repositorio, no es necesario que lo envíes, pero sí que lo pushees correctamente.\n",
        "- En la nota inicial se contempla:\n",
        "  - La incorporación de este documento a tu propio respositorio.\n",
        "  - El pusheo de los cambios realizados.\n",
        "  - La resolución de los ejercicios propuestos.\n"
      ],
      "metadata": {
        "id": "rd6Ug6v3J4uN"
      }
    },
    {
      "cell_type": "markdown",
      "source": [
        "1. Reemplaza todos los valores del nombre por los que obtengas del método title(). De esta manera las listas quedaran con los datos más homogéneos."
      ],
      "metadata": {
        "id": "wRLng-uURyJ3"
      }
    },
    {
      "cell_type": "code",
      "source": [
        "estudiantes = []\n",
        "for i in range(len(estudiantes_5c)):\n",
        "  nombre, divi, fecha_nac= estudiantes_5c[i]\n",
        "  estudiantes.append((nombre.title(),divi,fecha_nac))\n",
        "\n",
        "for i in range(len(estudiantes_5d)):\n",
        "  nombre, divi, fecha_nac= estudiantes_5d[i]\n",
        "  estudiantes.append((nombre.title(),divi,fecha_nac))\n",
        "\n",
        "for estudiante in estudiantes:\n",
        "  print(estudiante)"
      ],
      "metadata": {
        "id": "5lFqJoTaSIWi",
        "colab": {
          "base_uri": "https://localhost:8080/"
        },
        "outputId": "386e0630-add5-420e-88cf-6f306b50fa5a"
      },
      "execution_count": 2,
      "outputs": [
        {
          "output_type": "stream",
          "name": "stdout",
          "text": [
            "('Abud Laspiur, Lourdes Mariel', 'C', '05/12/2006')\n",
            "('Amador, Luana Micaela', 'C', '09/12/2006')\n",
            "('Anaquin, Leonardo Ezequiel', 'C', '06/09/2005')\n",
            "('Araoz Sanchez, Lautaro Nahuel', 'C', '28/12/2005')\n",
            "('Argañaraz, Agostina Abril', 'C', '11/10/2006')\n",
            "('Barrera, Matias Ezequiel', 'C', '27/02/2007')\n",
            "('Barrozo Vedia, Joaquin Nicolas', 'C', '15/04/2006')\n",
            "('Bettinelli, Valentino', 'C', '12/07/2006')\n",
            "('Bracamonte Martinez, Salvador', 'C', '02/11/2005')\n",
            "('Colque Rivero, Ariana Zoe Del Valle', 'C', '27/12/2006')\n",
            "('Diaz, Dulce Maitena', 'C', '11/12/2006')\n",
            "('Figueroa, Santino Josue', 'C', '12/05/2007')\n",
            "('Flores Cardozo, Agustina Tiara', 'C', '18/03/2006')\n",
            "('Gallo, Octavio Ismael', 'C', '04/08/2006')\n",
            "('Galvan, Lourdes Yamila', 'C', '19/08/2005')\n",
            "('Giangreco, Vitto Tomasso', 'C', '21/03/2007')\n",
            "('Grancara, Martina Luna', 'C', '15/12/2006')\n",
            "('Guanca, Sara Elizabeth', 'C', '17/01/2007')\n",
            "('Lopez, Victoria Constanza', 'C', '12/11/2007')\n",
            "('Mamani Garrido, Rosario Agostina', 'C', '24/10/2006')\n",
            "('Marinaro, Martin Ezequiel', 'C', '03/11/2006')\n",
            "('Merluzzi Dagum, Ignacio', 'C', '22/12/2005')\n",
            "('Messina, Martina', 'C', '13/07/2005')\n",
            "('Rasuk, Karim', 'C', '13/07/2007')\n",
            "('Rios, Lucia Magali', 'C', '22/09/2006')\n",
            "('Sanchez Flores, Matías Agustín', 'C', '15/02/2007')\n",
            "('Scarano, Renato Marcelo', 'C', '06/12/2006')\n",
            "('Sierra, Lucas Mauricio', 'C', '03/04/2005')\n",
            "('Tapia, Martin Gabriel', 'C', '30/05/2006')\n",
            "('Vilte, Mia Antonella Alondra', 'C', '10/09/2005')\n",
            "('Virgillito, Katya Milena', 'C', '19/06/2007')\n",
            "('Alurralde, Solange Stefania', 'D', '02/04/2007')\n",
            "('Alvarado, Ludmila Del Milagro', 'D', '06/09/2006')\n",
            "('Angel, Camila Juliana', 'D', '07/03/2007')\n",
            "('Arenas, Lucas Gabriel', 'D', '26/06/2007')\n",
            "('Caseres, Maria Antonia', 'D', '01/07/2006')\n",
            "('Castillo, Paulina Milagros', 'D', '01/06/2007')\n",
            "('Correa Segovia, Hugo Mariano', 'D', '04/12/2006')\n",
            "('D Elia, Alvaro Tadeo', 'D', '27/08/2006')\n",
            "('Flores, Victoria Agustina', 'D', '12/12/2006')\n",
            "('Geronimo Soriano, Lizzie Amaya', 'D', '20/01/2007')\n",
            "('Guzman, Angélica Morena', 'D', '11/04/2007')\n",
            "('Guzman, Jazmin Esmeralda Belen', 'D', '31/07/2006')\n",
            "('Jaime, Anita Maria Belen', 'D', '19/04/2007')\n",
            "('Lacour Polo, Nazarena', 'D', '19/12/2005')\n",
            "('Lascano Guanca, Marcelo Fabricio', 'D', '17/02/2006')\n",
            "('Lezcano, Celia Morena', 'D', '01/07/2005')\n",
            "('Martinez, Tomas Andres', 'D', '22/03/2007')\n",
            "('Portella Valdivia, Pedro Francisco', 'D', '24/01/2007')\n",
            "('Retamal Cisneros, Zacarias Josue', 'D', '24/02/2007')\n",
            "('Rosales, Francisco Gabriel', 'D', '14/11/2006')\n",
            "('Salem Barba, Mahia', 'D', '14/10/2005')\n",
            "('Soto Camara, Agustin Ignacio', 'D', '07/11/2005')\n",
            "('Villalba, Irina', 'D', '09/09/2006')\n",
            "('Voltolini, Emanuel Tobias', 'D', '17/09/2006')\n",
            "('Zalazar, Santino Stefano', 'D', '30/09/2006')\n"
          ]
        }
      ]
    },
    {
      "cell_type": "code",
      "source": [
        "for i in range(len(estudiantes_5d)):\n",
        "  estudiantes_5d[i] = list(estudiantes_5d[i])\n",
        "  estudiantes_5d[i][0] = estudiantes_5d[i][0].title()\n",
        "for i in range(len(estudiantes_5c)):\n",
        "  estudiantes_5c[i] = list(estudiantes_5c[i])\n",
        "  estudiantes_5c[i][0] = estudiantes_5c[i][0].title()\n",
        "\n",
        "for i in estudiantes_5d:\n",
        "  print(i)\n",
        "\n",
        "for i in estudiantes_5c:\n",
        "  print(i)"
      ],
      "metadata": {
        "colab": {
          "base_uri": "https://localhost:8080/"
        },
        "id": "hmgDVcSljziK",
        "outputId": "9aa836b3-eeba-48d1-e31a-c858ad16bbad"
      },
      "execution_count": null,
      "outputs": [
        {
          "output_type": "stream",
          "name": "stdout",
          "text": [
            "['Alurralde, Solange Stefania', 'D', '02/04/2007']\n",
            "['Alvarado, Ludmila Del Milagro', 'D', '06/09/2006']\n",
            "['Angel, Camila Juliana', 'D', '07/03/2007']\n",
            "['Arenas, Lucas Gabriel', 'D', '26/06/2007']\n",
            "['Caseres, Maria Antonia', 'D', '01/07/2006']\n",
            "['Castillo, Paulina Milagros', 'D', '01/06/2007']\n",
            "['Correa Segovia, Hugo Mariano', 'D', '04/12/2006']\n",
            "['D Elia, Alvaro Tadeo', 'D', '27/08/2006']\n",
            "['Flores, Victoria Agustina', 'D', '12/12/2006']\n",
            "['Geronimo Soriano, Lizzie Amaya', 'D', '20/01/2007']\n",
            "['Guzman, Angélica Morena', 'D', '11/04/2007']\n",
            "['Guzman, Jazmin Esmeralda Belen', 'D', '31/07/2006']\n",
            "['Jaime, Anita Maria Belen', 'D', '19/04/2007']\n",
            "['Lacour Polo, Nazarena', 'D', '19/12/2005']\n",
            "['Lascano Guanca, Marcelo Fabricio', 'D', '17/02/2006']\n",
            "['Lezcano, Celia Morena', 'D', '01/07/2005']\n",
            "['Martinez, Tomas Andres', 'D', '22/03/2007']\n",
            "['Portella Valdivia, Pedro Francisco', 'D', '24/01/2007']\n",
            "['Retamal Cisneros, Zacarias Josue', 'D', '24/02/2007']\n",
            "['Rosales, Francisco Gabriel', 'D', '14/11/2006']\n",
            "['Salem Barba, Mahia', 'D', '14/10/2005']\n",
            "['Soto Camara, Agustin Ignacio', 'D', '07/11/2005']\n",
            "['Villalba, Irina', 'D', '09/09/2006']\n",
            "['Voltolini, Emanuel Tobias', 'D', '17/09/2006']\n",
            "['Zalazar, Santino Stefano', 'D', '30/09/2006']\n",
            "['Abud Laspiur, Lourdes Mariel', 'C', '05/12/2006']\n",
            "['Amador, Luana Micaela', 'C', '09/12/2006']\n",
            "['Anaquin, Leonardo Ezequiel', 'C', '06/09/2005']\n",
            "['Araoz Sanchez, Lautaro Nahuel', 'C', '28/12/2005']\n",
            "['Argañaraz, Agostina Abril', 'C', '11/10/2006']\n",
            "['Barrera, Matias Ezequiel', 'C', '27/02/2007']\n",
            "['Barrozo Vedia, Joaquin Nicolas', 'C', '15/04/2006']\n",
            "['Bettinelli, Valentino', 'C', '12/07/2006']\n",
            "['Bracamonte Martinez, Salvador', 'C', '02/11/2005']\n",
            "['Colque Rivero, Ariana Zoe Del Valle', 'C', '27/12/2006']\n",
            "['Diaz, Dulce Maitena', 'C', '11/12/2006']\n",
            "['Figueroa, Santino Josue', 'C', '12/05/2007']\n",
            "['Flores Cardozo, Agustina Tiara', 'C', '18/03/2006']\n",
            "['Gallo, Octavio Ismael', 'C', '04/08/2006']\n",
            "['Galvan, Lourdes Yamila', 'C', '19/08/2005']\n",
            "['Giangreco, Vitto Tomasso', 'C', '21/03/2007']\n",
            "['Grancara, Martina Luna', 'C', '15/12/2006']\n",
            "['Guanca, Sara Elizabeth', 'C', '17/01/2007']\n",
            "['Lopez, Victoria Constanza', 'C', '12/11/2007']\n",
            "['Mamani Garrido, Rosario Agostina', 'C', '24/10/2006']\n",
            "['Marinaro, Martin Ezequiel', 'C', '03/11/2006']\n",
            "['Merluzzi Dagum, Ignacio', 'C', '22/12/2005']\n",
            "['Messina, Martina', 'C', '13/07/2005']\n",
            "['Rasuk, Karim', 'C', '13/07/2007']\n",
            "['Rios, Lucia Magali', 'C', '22/09/2006']\n",
            "['Sanchez Flores, Matías Agustín', 'C', '15/02/2007']\n",
            "['Scarano, Renato Marcelo', 'C', '06/12/2006']\n",
            "['Sierra, Lucas Mauricio', 'C', '03/04/2005']\n",
            "['Tapia, Martin Gabriel', 'C', '30/05/2006']\n",
            "['Vilte, Mia Antonella Alondra', 'C', '10/09/2005']\n",
            "['Virgillito, Katya Milena', 'C', '19/06/2007']\n"
          ]
        }
      ]
    },
    {
      "cell_type": "code",
      "source": [],
      "metadata": {
        "id": "CGpv57nThNVw"
      },
      "execution_count": null,
      "outputs": []
    },
    {
      "cell_type": "markdown",
      "source": [
        "2. Genera una lista de diccionarios con los datos de las listas, donde las claves de los mismos serán:\n",
        "- \"apellido\"\n",
        "- \"nombre\"\n",
        "- \"curso\"\n",
        "- \"division\"\n",
        "- \"feha_de_nacimiento\"\n",
        "\n",
        "Muestra la información generada."
      ],
      "metadata": {
        "id": "dYEGkYZyLy9I"
      }
    },
    {
      "cell_type": "code",
      "source": [
        "lista_dic = []\n",
        "for estudiante in estudiantes:\n",
        "  nombre_completo,division,fecha_nac = estudiante\n",
        "  apellido,nombre = nombre_completo.split(\",\")\n",
        "  nombre = nombre.strip()\n",
        "  diccionario = {}\n",
        "  diccionario[\"nombre\"] = nombre\n",
        "  diccionario[\"apellido\"] = apellido\n",
        "  diccionario[\"división\"] = division\n",
        "  diccionario[\"curso\"] = 5\n",
        "  diccionario[\"fecha de nacimiento\"] = fecha_nac\n",
        "  lista_dic.append(diccionario)\n",
        "\n",
        "for estudiante in lista_dic:\n",
        "   print(estudiante)"
      ],
      "metadata": {
        "colab": {
          "base_uri": "https://localhost:8080/"
        },
        "id": "ug7IDQ67QbM6",
        "outputId": "30dd1088-4177-43ed-cf12-957a7969bdc5"
      },
      "execution_count": 3,
      "outputs": [
        {
          "output_type": "stream",
          "name": "stdout",
          "text": [
            "{'nombre': 'Lourdes Mariel', 'apellido': 'Abud Laspiur', 'división': 'C', 'curso': 5, 'fecha de nacimiento': '05/12/2006'}\n",
            "{'nombre': 'Luana Micaela', 'apellido': 'Amador', 'división': 'C', 'curso': 5, 'fecha de nacimiento': '09/12/2006'}\n",
            "{'nombre': 'Leonardo Ezequiel', 'apellido': 'Anaquin', 'división': 'C', 'curso': 5, 'fecha de nacimiento': '06/09/2005'}\n",
            "{'nombre': 'Lautaro Nahuel', 'apellido': 'Araoz Sanchez', 'división': 'C', 'curso': 5, 'fecha de nacimiento': '28/12/2005'}\n",
            "{'nombre': 'Agostina Abril', 'apellido': 'Argañaraz', 'división': 'C', 'curso': 5, 'fecha de nacimiento': '11/10/2006'}\n",
            "{'nombre': 'Matias Ezequiel', 'apellido': 'Barrera', 'división': 'C', 'curso': 5, 'fecha de nacimiento': '27/02/2007'}\n",
            "{'nombre': 'Joaquin Nicolas', 'apellido': 'Barrozo Vedia', 'división': 'C', 'curso': 5, 'fecha de nacimiento': '15/04/2006'}\n",
            "{'nombre': 'Valentino', 'apellido': 'Bettinelli', 'división': 'C', 'curso': 5, 'fecha de nacimiento': '12/07/2006'}\n",
            "{'nombre': 'Salvador', 'apellido': 'Bracamonte Martinez', 'división': 'C', 'curso': 5, 'fecha de nacimiento': '02/11/2005'}\n",
            "{'nombre': 'Ariana Zoe Del Valle', 'apellido': 'Colque Rivero', 'división': 'C', 'curso': 5, 'fecha de nacimiento': '27/12/2006'}\n",
            "{'nombre': 'Dulce Maitena', 'apellido': 'Diaz', 'división': 'C', 'curso': 5, 'fecha de nacimiento': '11/12/2006'}\n",
            "{'nombre': 'Santino Josue', 'apellido': 'Figueroa', 'división': 'C', 'curso': 5, 'fecha de nacimiento': '12/05/2007'}\n",
            "{'nombre': 'Agustina Tiara', 'apellido': 'Flores Cardozo', 'división': 'C', 'curso': 5, 'fecha de nacimiento': '18/03/2006'}\n",
            "{'nombre': 'Octavio Ismael', 'apellido': 'Gallo', 'división': 'C', 'curso': 5, 'fecha de nacimiento': '04/08/2006'}\n",
            "{'nombre': 'Lourdes Yamila', 'apellido': 'Galvan', 'división': 'C', 'curso': 5, 'fecha de nacimiento': '19/08/2005'}\n",
            "{'nombre': 'Vitto Tomasso', 'apellido': 'Giangreco', 'división': 'C', 'curso': 5, 'fecha de nacimiento': '21/03/2007'}\n",
            "{'nombre': 'Martina Luna', 'apellido': 'Grancara', 'división': 'C', 'curso': 5, 'fecha de nacimiento': '15/12/2006'}\n",
            "{'nombre': 'Sara Elizabeth', 'apellido': 'Guanca', 'división': 'C', 'curso': 5, 'fecha de nacimiento': '17/01/2007'}\n",
            "{'nombre': 'Victoria Constanza', 'apellido': 'Lopez', 'división': 'C', 'curso': 5, 'fecha de nacimiento': '12/11/2007'}\n",
            "{'nombre': 'Rosario Agostina', 'apellido': 'Mamani Garrido', 'división': 'C', 'curso': 5, 'fecha de nacimiento': '24/10/2006'}\n",
            "{'nombre': 'Martin Ezequiel', 'apellido': 'Marinaro', 'división': 'C', 'curso': 5, 'fecha de nacimiento': '03/11/2006'}\n",
            "{'nombre': 'Ignacio', 'apellido': 'Merluzzi Dagum', 'división': 'C', 'curso': 5, 'fecha de nacimiento': '22/12/2005'}\n",
            "{'nombre': 'Martina', 'apellido': 'Messina', 'división': 'C', 'curso': 5, 'fecha de nacimiento': '13/07/2005'}\n",
            "{'nombre': 'Karim', 'apellido': 'Rasuk', 'división': 'C', 'curso': 5, 'fecha de nacimiento': '13/07/2007'}\n",
            "{'nombre': 'Lucia Magali', 'apellido': 'Rios', 'división': 'C', 'curso': 5, 'fecha de nacimiento': '22/09/2006'}\n",
            "{'nombre': 'Matías Agustín', 'apellido': 'Sanchez Flores', 'división': 'C', 'curso': 5, 'fecha de nacimiento': '15/02/2007'}\n",
            "{'nombre': 'Renato Marcelo', 'apellido': 'Scarano', 'división': 'C', 'curso': 5, 'fecha de nacimiento': '06/12/2006'}\n",
            "{'nombre': 'Lucas Mauricio', 'apellido': 'Sierra', 'división': 'C', 'curso': 5, 'fecha de nacimiento': '03/04/2005'}\n",
            "{'nombre': 'Martin Gabriel', 'apellido': 'Tapia', 'división': 'C', 'curso': 5, 'fecha de nacimiento': '30/05/2006'}\n",
            "{'nombre': 'Mia Antonella Alondra', 'apellido': 'Vilte', 'división': 'C', 'curso': 5, 'fecha de nacimiento': '10/09/2005'}\n",
            "{'nombre': 'Katya Milena', 'apellido': 'Virgillito', 'división': 'C', 'curso': 5, 'fecha de nacimiento': '19/06/2007'}\n",
            "{'nombre': 'Solange Stefania', 'apellido': 'Alurralde', 'división': 'D', 'curso': 5, 'fecha de nacimiento': '02/04/2007'}\n",
            "{'nombre': 'Ludmila Del Milagro', 'apellido': 'Alvarado', 'división': 'D', 'curso': 5, 'fecha de nacimiento': '06/09/2006'}\n",
            "{'nombre': 'Camila Juliana', 'apellido': 'Angel', 'división': 'D', 'curso': 5, 'fecha de nacimiento': '07/03/2007'}\n",
            "{'nombre': 'Lucas Gabriel', 'apellido': 'Arenas', 'división': 'D', 'curso': 5, 'fecha de nacimiento': '26/06/2007'}\n",
            "{'nombre': 'Maria Antonia', 'apellido': 'Caseres', 'división': 'D', 'curso': 5, 'fecha de nacimiento': '01/07/2006'}\n",
            "{'nombre': 'Paulina Milagros', 'apellido': 'Castillo', 'división': 'D', 'curso': 5, 'fecha de nacimiento': '01/06/2007'}\n",
            "{'nombre': 'Hugo Mariano', 'apellido': 'Correa Segovia', 'división': 'D', 'curso': 5, 'fecha de nacimiento': '04/12/2006'}\n",
            "{'nombre': 'Alvaro Tadeo', 'apellido': 'D Elia', 'división': 'D', 'curso': 5, 'fecha de nacimiento': '27/08/2006'}\n",
            "{'nombre': 'Victoria Agustina', 'apellido': 'Flores', 'división': 'D', 'curso': 5, 'fecha de nacimiento': '12/12/2006'}\n",
            "{'nombre': 'Lizzie Amaya', 'apellido': 'Geronimo Soriano', 'división': 'D', 'curso': 5, 'fecha de nacimiento': '20/01/2007'}\n",
            "{'nombre': 'Angélica Morena', 'apellido': 'Guzman', 'división': 'D', 'curso': 5, 'fecha de nacimiento': '11/04/2007'}\n",
            "{'nombre': 'Jazmin Esmeralda Belen', 'apellido': 'Guzman', 'división': 'D', 'curso': 5, 'fecha de nacimiento': '31/07/2006'}\n",
            "{'nombre': 'Anita Maria Belen', 'apellido': 'Jaime', 'división': 'D', 'curso': 5, 'fecha de nacimiento': '19/04/2007'}\n",
            "{'nombre': 'Nazarena', 'apellido': 'Lacour Polo', 'división': 'D', 'curso': 5, 'fecha de nacimiento': '19/12/2005'}\n",
            "{'nombre': 'Marcelo Fabricio', 'apellido': 'Lascano Guanca', 'división': 'D', 'curso': 5, 'fecha de nacimiento': '17/02/2006'}\n",
            "{'nombre': 'Celia Morena', 'apellido': 'Lezcano', 'división': 'D', 'curso': 5, 'fecha de nacimiento': '01/07/2005'}\n",
            "{'nombre': 'Tomas Andres', 'apellido': 'Martinez', 'división': 'D', 'curso': 5, 'fecha de nacimiento': '22/03/2007'}\n",
            "{'nombre': 'Pedro Francisco', 'apellido': 'Portella Valdivia', 'división': 'D', 'curso': 5, 'fecha de nacimiento': '24/01/2007'}\n",
            "{'nombre': 'Zacarias Josue', 'apellido': 'Retamal Cisneros', 'división': 'D', 'curso': 5, 'fecha de nacimiento': '24/02/2007'}\n",
            "{'nombre': 'Francisco Gabriel', 'apellido': 'Rosales', 'división': 'D', 'curso': 5, 'fecha de nacimiento': '14/11/2006'}\n",
            "{'nombre': 'Mahia', 'apellido': 'Salem Barba', 'división': 'D', 'curso': 5, 'fecha de nacimiento': '14/10/2005'}\n",
            "{'nombre': 'Agustin Ignacio', 'apellido': 'Soto Camara', 'división': 'D', 'curso': 5, 'fecha de nacimiento': '07/11/2005'}\n",
            "{'nombre': 'Irina', 'apellido': 'Villalba', 'división': 'D', 'curso': 5, 'fecha de nacimiento': '09/09/2006'}\n",
            "{'nombre': 'Emanuel Tobias', 'apellido': 'Voltolini', 'división': 'D', 'curso': 5, 'fecha de nacimiento': '17/09/2006'}\n",
            "{'nombre': 'Santino Stefano', 'apellido': 'Zalazar', 'división': 'D', 'curso': 5, 'fecha de nacimiento': '30/09/2006'}\n"
          ]
        }
      ]
    },
    {
      "cell_type": "code",
      "source": [
        "for i in range(len(estudiantes_5d)):\n",
        "  apellido, nombre = estudiantes_5d[i][0].split(',')\n",
        "  estudiantes_5d[i] = {\n",
        "      'apellido' : apellido.strip(),\n",
        "      'nombre' : nombre.strip(),\n",
        "      'curso' : '5D',\n",
        "      'division' : estudiantes_5d[i][1],\n",
        "      'fecha de nacimiento' : estudiantes_5d [i][2]\n",
        "\n",
        "  }\n",
        "\n",
        "for i in estudiantes_5d:\n",
        "  print(i)\n",
        "\n",
        "for i in range(len(estudiantes_5c)):\n",
        "  apellido, nombre = estudiantes_5c[i][0].split(',')\n",
        "  estudiantes_5c[i] = {\n",
        "      'apellido' : apellido.strip(),\n",
        "      'nombre' : nombre.strip(),\n",
        "      'curso' : '5C',\n",
        "      'division' : estudiantes_5c[i][1],\n",
        "      'fecha de nacimiento' : estudiantes_5c [i][2]\n",
        "  }\n",
        "\n",
        "for i in estudiantes_5c:\n",
        "  print(i)\n"
      ],
      "metadata": {
        "colab": {
          "base_uri": "https://localhost:8080/"
        },
        "id": "lPUXDAoXkdWc",
        "outputId": "03e078e5-0e15-49c5-8002-40d757551831"
      },
      "execution_count": 4,
      "outputs": [
        {
          "output_type": "stream",
          "name": "stdout",
          "text": [
            "{'apellido': 'Alurralde', 'nombre': 'Solange Stefania', 'curso': '5D', 'division': 'D', 'fecha de nacimiento': '02/04/2007'}\n",
            "{'apellido': 'Alvarado', 'nombre': 'Ludmila Del Milagro', 'curso': '5D', 'division': 'D', 'fecha de nacimiento': '06/09/2006'}\n",
            "{'apellido': 'Angel', 'nombre': 'Camila Juliana', 'curso': '5D', 'division': 'D', 'fecha de nacimiento': '07/03/2007'}\n",
            "{'apellido': 'Arenas', 'nombre': 'Lucas Gabriel', 'curso': '5D', 'division': 'D', 'fecha de nacimiento': '26/06/2007'}\n",
            "{'apellido': 'Caseres', 'nombre': 'Maria Antonia', 'curso': '5D', 'division': 'D', 'fecha de nacimiento': '01/07/2006'}\n",
            "{'apellido': 'Castillo', 'nombre': 'Paulina Milagros', 'curso': '5D', 'division': 'D', 'fecha de nacimiento': '01/06/2007'}\n",
            "{'apellido': 'Correa Segovia', 'nombre': 'Hugo Mariano', 'curso': '5D', 'division': 'D', 'fecha de nacimiento': '04/12/2006'}\n",
            "{'apellido': 'D Elia', 'nombre': 'Alvaro Tadeo', 'curso': '5D', 'division': 'D', 'fecha de nacimiento': '27/08/2006'}\n",
            "{'apellido': 'Flores', 'nombre': 'Victoria Agustina', 'curso': '5D', 'division': 'D', 'fecha de nacimiento': '12/12/2006'}\n",
            "{'apellido': 'Geronimo Soriano', 'nombre': 'Lizzie Amaya', 'curso': '5D', 'division': 'D', 'fecha de nacimiento': '20/01/2007'}\n",
            "{'apellido': 'GUZMAN', 'nombre': 'ANGÉLICA MORENA', 'curso': '5D', 'division': 'D', 'fecha de nacimiento': '11/04/2007'}\n",
            "{'apellido': 'Guzman', 'nombre': 'Jazmin Esmeralda Belen', 'curso': '5D', 'division': 'D', 'fecha de nacimiento': '31/07/2006'}\n",
            "{'apellido': 'Jaime', 'nombre': 'Anita Maria Belen', 'curso': '5D', 'division': 'D', 'fecha de nacimiento': '19/04/2007'}\n",
            "{'apellido': 'Lacour Polo', 'nombre': 'Nazarena', 'curso': '5D', 'division': 'D', 'fecha de nacimiento': '19/12/2005'}\n",
            "{'apellido': 'Lascano Guanca', 'nombre': 'Marcelo Fabricio', 'curso': '5D', 'division': 'D', 'fecha de nacimiento': '17/02/2006'}\n",
            "{'apellido': 'Lezcano', 'nombre': 'Celia Morena', 'curso': '5D', 'division': 'D', 'fecha de nacimiento': '01/07/2005'}\n",
            "{'apellido': 'Martinez', 'nombre': 'Tomas Andres', 'curso': '5D', 'division': 'D', 'fecha de nacimiento': '22/03/2007'}\n",
            "{'apellido': 'PORTELLA VALDIVIA', 'nombre': 'PEDRO FRANCISCO', 'curso': '5D', 'division': 'D', 'fecha de nacimiento': '24/01/2007'}\n",
            "{'apellido': 'Retamal Cisneros', 'nombre': 'Zacarias Josue', 'curso': '5D', 'division': 'D', 'fecha de nacimiento': '24/02/2007'}\n",
            "{'apellido': 'Rosales', 'nombre': 'Francisco Gabriel', 'curso': '5D', 'division': 'D', 'fecha de nacimiento': '14/11/2006'}\n",
            "{'apellido': 'Salem Barba', 'nombre': 'Mahia', 'curso': '5D', 'division': 'D', 'fecha de nacimiento': '14/10/2005'}\n",
            "{'apellido': 'Soto Camara', 'nombre': 'Agustin Ignacio', 'curso': '5D', 'division': 'D', 'fecha de nacimiento': '07/11/2005'}\n",
            "{'apellido': 'Villalba', 'nombre': 'Irina', 'curso': '5D', 'division': 'D', 'fecha de nacimiento': '09/09/2006'}\n",
            "{'apellido': 'Voltolini', 'nombre': 'Emanuel Tobias', 'curso': '5D', 'division': 'D', 'fecha de nacimiento': '17/09/2006'}\n",
            "{'apellido': 'Zalazar', 'nombre': 'Santino Stefano', 'curso': '5D', 'division': 'D', 'fecha de nacimiento': '30/09/2006'}\n",
            "{'apellido': 'ABUD LASPIUR', 'nombre': 'LOURDES MARIEL', 'curso': '5C', 'division': 'C', 'fecha de nacimiento': '05/12/2006'}\n",
            "{'apellido': 'Amador', 'nombre': 'Luana Micaela', 'curso': '5C', 'division': 'C', 'fecha de nacimiento': '09/12/2006'}\n",
            "{'apellido': 'Anaquin', 'nombre': 'Leonardo Ezequiel', 'curso': '5C', 'division': 'C', 'fecha de nacimiento': '06/09/2005'}\n",
            "{'apellido': 'Araoz Sanchez', 'nombre': 'Lautaro Nahuel', 'curso': '5C', 'division': 'C', 'fecha de nacimiento': '28/12/2005'}\n",
            "{'apellido': 'Argañaraz', 'nombre': 'Agostina Abril', 'curso': '5C', 'division': 'C', 'fecha de nacimiento': '11/10/2006'}\n",
            "{'apellido': 'Barrera', 'nombre': 'Matias Ezequiel', 'curso': '5C', 'division': 'C', 'fecha de nacimiento': '27/02/2007'}\n",
            "{'apellido': 'Barrozo Vedia', 'nombre': 'Joaquin Nicolas', 'curso': '5C', 'division': 'C', 'fecha de nacimiento': '15/04/2006'}\n",
            "{'apellido': 'Bettinelli', 'nombre': 'Valentino', 'curso': '5C', 'division': 'C', 'fecha de nacimiento': '12/07/2006'}\n",
            "{'apellido': 'Bracamonte Martinez', 'nombre': 'Salvador', 'curso': '5C', 'division': 'C', 'fecha de nacimiento': '02/11/2005'}\n",
            "{'apellido': 'Colque Rivero', 'nombre': 'Ariana Zoe Del Valle', 'curso': '5C', 'division': 'C', 'fecha de nacimiento': '27/12/2006'}\n",
            "{'apellido': 'Diaz', 'nombre': 'Dulce Maitena', 'curso': '5C', 'division': 'C', 'fecha de nacimiento': '11/12/2006'}\n",
            "{'apellido': 'FIGUEROA', 'nombre': 'SANTINO JOSUE', 'curso': '5C', 'division': 'C', 'fecha de nacimiento': '12/05/2007'}\n",
            "{'apellido': 'Flores Cardozo', 'nombre': 'Agustina Tiara', 'curso': '5C', 'division': 'C', 'fecha de nacimiento': '18/03/2006'}\n",
            "{'apellido': 'Gallo', 'nombre': 'Octavio Ismael', 'curso': '5C', 'division': 'C', 'fecha de nacimiento': '04/08/2006'}\n",
            "{'apellido': 'Galvan', 'nombre': 'Lourdes Yamila', 'curso': '5C', 'division': 'C', 'fecha de nacimiento': '19/08/2005'}\n",
            "{'apellido': 'Giangreco', 'nombre': 'Vitto Tomasso', 'curso': '5C', 'division': 'C', 'fecha de nacimiento': '21/03/2007'}\n",
            "{'apellido': 'Grancara', 'nombre': 'Martina Luna', 'curso': '5C', 'division': 'C', 'fecha de nacimiento': '15/12/2006'}\n",
            "{'apellido': 'Guanca', 'nombre': 'Sara Elizabeth', 'curso': '5C', 'division': 'C', 'fecha de nacimiento': '17/01/2007'}\n",
            "{'apellido': 'Lopez', 'nombre': 'Victoria Constanza', 'curso': '5C', 'division': 'C', 'fecha de nacimiento': '12/11/2007'}\n",
            "{'apellido': 'Mamani Garrido', 'nombre': 'Rosario Agostina', 'curso': '5C', 'division': 'C', 'fecha de nacimiento': '24/10/2006'}\n",
            "{'apellido': 'Marinaro', 'nombre': 'Martin Ezequiel', 'curso': '5C', 'division': 'C', 'fecha de nacimiento': '03/11/2006'}\n",
            "{'apellido': 'Merluzzi Dagum', 'nombre': 'Ignacio', 'curso': '5C', 'division': 'C', 'fecha de nacimiento': '22/12/2005'}\n",
            "{'apellido': 'Messina', 'nombre': 'Martina', 'curso': '5C', 'division': 'C', 'fecha de nacimiento': '13/07/2005'}\n",
            "{'apellido': 'RASUK', 'nombre': 'KARIM', 'curso': '5C', 'division': 'C', 'fecha de nacimiento': '13/07/2007'}\n",
            "{'apellido': 'Rios', 'nombre': 'Lucia Magali', 'curso': '5C', 'division': 'C', 'fecha de nacimiento': '22/09/2006'}\n",
            "{'apellido': 'Sanchez Flores', 'nombre': 'Matías Agustín', 'curso': '5C', 'division': 'C', 'fecha de nacimiento': '15/02/2007'}\n",
            "{'apellido': 'Scarano', 'nombre': 'Renato Marcelo', 'curso': '5C', 'division': 'C', 'fecha de nacimiento': '06/12/2006'}\n",
            "{'apellido': 'Sierra', 'nombre': 'Lucas Mauricio', 'curso': '5C', 'division': 'C', 'fecha de nacimiento': '03/04/2005'}\n",
            "{'apellido': 'Tapia', 'nombre': 'Martin Gabriel', 'curso': '5C', 'division': 'C', 'fecha de nacimiento': '30/05/2006'}\n",
            "{'apellido': 'Vilte', 'nombre': 'Mia Antonella Alondra', 'curso': '5C', 'division': 'C', 'fecha de nacimiento': '10/09/2005'}\n",
            "{'apellido': 'Virgillito', 'nombre': 'Katya Milena', 'curso': '5C', 'division': 'C', 'fecha de nacimiento': '19/06/2007'}\n"
          ]
        }
      ]
    },
    {
      "cell_type": "markdown",
      "source": [
        "3. Genera un diccionario en python, en donde la clave sea cada nombre que aparece en las listas y el valor será la cantidad de veces que se encuentra el mismo.\n",
        "Para este punto es posible fusionar ambas listas en una sola, recordá que hay un método que realiza esta acción.\n",
        "\n",
        "Mostrá la informacion generada"
      ],
      "metadata": {
        "id": "UW2dlBsGMAte"
      }
    },
    {
      "cell_type": "code",
      "source": [
        "lista_nombres = []\n",
        "for estudiante in estudiantes:\n",
        "  nombre_completo = estudiante[0].replace(\",\",\",\").split()\n",
        "  lista_nombres.extend(nombre_completo)\n",
        "\n",
        "ocurrencias_nombres = {}\n",
        "for nombre in lista_nombres:\n",
        "  if nombre in ocurrencias_nombres.keys():\n",
        "    ocurrencias_nombres[nombre] += 1\n",
        "  else:\n",
        "    ocurrencias_nombres[nombre] = 1\n",
        "\n",
        "for nombre,ocurrencia in ocurrencias_nombres.items():\n",
        "  print(f\"El nombre {nombre} apareció {ocurrencia} veces\")"
      ],
      "metadata": {
        "id": "EawAy4SANtkl",
        "colab": {
          "base_uri": "https://localhost:8080/"
        },
        "outputId": "ac4114a6-bb09-4ce2-f195-05228139d893"
      },
      "execution_count": 5,
      "outputs": [
        {
          "output_type": "stream",
          "name": "stdout",
          "text": [
            "El nombre Abud apareció 1 veces\n",
            "El nombre Laspiur, apareció 1 veces\n",
            "El nombre Lourdes apareció 2 veces\n",
            "El nombre Mariel apareció 1 veces\n",
            "El nombre Amador, apareció 1 veces\n",
            "El nombre Luana apareció 1 veces\n",
            "El nombre Micaela apareció 1 veces\n",
            "El nombre Anaquin, apareció 1 veces\n",
            "El nombre Leonardo apareció 1 veces\n",
            "El nombre Ezequiel apareció 3 veces\n",
            "El nombre Araoz apareció 1 veces\n",
            "El nombre Sanchez, apareció 1 veces\n",
            "El nombre Lautaro apareció 1 veces\n",
            "El nombre Nahuel apareció 1 veces\n",
            "El nombre Argañaraz, apareció 1 veces\n",
            "El nombre Agostina apareció 2 veces\n",
            "El nombre Abril apareció 1 veces\n",
            "El nombre Barrera, apareció 1 veces\n",
            "El nombre Matias apareció 1 veces\n",
            "El nombre Barrozo apareció 1 veces\n",
            "El nombre Vedia, apareció 1 veces\n",
            "El nombre Joaquin apareció 1 veces\n",
            "El nombre Nicolas apareció 1 veces\n",
            "El nombre Bettinelli, apareció 1 veces\n",
            "El nombre Valentino apareció 1 veces\n",
            "El nombre Bracamonte apareció 1 veces\n",
            "El nombre Martinez, apareció 2 veces\n",
            "El nombre Salvador apareció 1 veces\n",
            "El nombre Colque apareció 1 veces\n",
            "El nombre Rivero, apareció 1 veces\n",
            "El nombre Ariana apareció 1 veces\n",
            "El nombre Zoe apareció 1 veces\n",
            "El nombre Del apareció 2 veces\n",
            "El nombre Valle apareció 1 veces\n",
            "El nombre Diaz, apareció 1 veces\n",
            "El nombre Dulce apareció 1 veces\n",
            "El nombre Maitena apareció 1 veces\n",
            "El nombre Figueroa, apareció 1 veces\n",
            "El nombre Santino apareció 2 veces\n",
            "El nombre Josue apareció 2 veces\n",
            "El nombre Flores apareció 1 veces\n",
            "El nombre Cardozo, apareció 1 veces\n",
            "El nombre Agustina apareció 2 veces\n",
            "El nombre Tiara apareció 1 veces\n",
            "El nombre Gallo, apareció 1 veces\n",
            "El nombre Octavio apareció 1 veces\n",
            "El nombre Ismael apareció 1 veces\n",
            "El nombre Galvan, apareció 1 veces\n",
            "El nombre Yamila apareció 1 veces\n",
            "El nombre Giangreco, apareció 1 veces\n",
            "El nombre Vitto apareció 1 veces\n",
            "El nombre Tomasso apareció 1 veces\n",
            "El nombre Grancara, apareció 1 veces\n",
            "El nombre Martina apareció 2 veces\n",
            "El nombre Luna apareció 1 veces\n",
            "El nombre Guanca, apareció 2 veces\n",
            "El nombre Sara apareció 1 veces\n",
            "El nombre Elizabeth apareció 1 veces\n",
            "El nombre Lopez, apareció 1 veces\n",
            "El nombre Victoria apareció 2 veces\n",
            "El nombre Constanza apareció 1 veces\n",
            "El nombre Mamani apareció 1 veces\n",
            "El nombre Garrido, apareció 1 veces\n",
            "El nombre Rosario apareció 1 veces\n",
            "El nombre Marinaro, apareció 1 veces\n",
            "El nombre Martin apareció 2 veces\n",
            "El nombre Merluzzi apareció 1 veces\n",
            "El nombre Dagum, apareció 1 veces\n",
            "El nombre Ignacio apareció 2 veces\n",
            "El nombre Messina, apareció 1 veces\n",
            "El nombre Rasuk, apareció 1 veces\n",
            "El nombre Karim apareció 1 veces\n",
            "El nombre Rios, apareció 1 veces\n",
            "El nombre Lucia apareció 1 veces\n",
            "El nombre Magali apareció 1 veces\n",
            "El nombre Sanchez apareció 1 veces\n",
            "El nombre Flores, apareció 2 veces\n",
            "El nombre Matías apareció 1 veces\n",
            "El nombre Agustín apareció 1 veces\n",
            "El nombre Scarano, apareció 1 veces\n",
            "El nombre Renato apareció 1 veces\n",
            "El nombre Marcelo apareció 2 veces\n",
            "El nombre Sierra, apareció 1 veces\n",
            "El nombre Lucas apareció 2 veces\n",
            "El nombre Mauricio apareció 1 veces\n",
            "El nombre Tapia, apareció 1 veces\n",
            "El nombre Gabriel apareció 3 veces\n",
            "El nombre Vilte, apareció 1 veces\n",
            "El nombre Mia apareció 1 veces\n",
            "El nombre Antonella apareció 1 veces\n",
            "El nombre Alondra apareció 1 veces\n",
            "El nombre Virgillito, apareció 1 veces\n",
            "El nombre Katya apareció 1 veces\n",
            "El nombre Milena apareció 1 veces\n",
            "El nombre Alurralde, apareció 1 veces\n",
            "El nombre Solange apareció 1 veces\n",
            "El nombre Stefania apareció 1 veces\n",
            "El nombre Alvarado, apareció 1 veces\n",
            "El nombre Ludmila apareció 1 veces\n",
            "El nombre Milagro apareció 1 veces\n",
            "El nombre Angel, apareció 1 veces\n",
            "El nombre Camila apareció 1 veces\n",
            "El nombre Juliana apareció 1 veces\n",
            "El nombre Arenas, apareció 1 veces\n",
            "El nombre Caseres, apareció 1 veces\n",
            "El nombre Maria apareció 2 veces\n",
            "El nombre Antonia apareció 1 veces\n",
            "El nombre Castillo, apareció 1 veces\n",
            "El nombre Paulina apareció 1 veces\n",
            "El nombre Milagros apareció 1 veces\n",
            "El nombre Correa apareció 1 veces\n",
            "El nombre Segovia, apareció 1 veces\n",
            "El nombre Hugo apareció 1 veces\n",
            "El nombre Mariano apareció 1 veces\n",
            "El nombre D apareció 1 veces\n",
            "El nombre Elia, apareció 1 veces\n",
            "El nombre Alvaro apareció 1 veces\n",
            "El nombre Tadeo apareció 1 veces\n",
            "El nombre Geronimo apareció 1 veces\n",
            "El nombre Soriano, apareció 1 veces\n",
            "El nombre Lizzie apareció 1 veces\n",
            "El nombre Amaya apareció 1 veces\n",
            "El nombre Guzman, apareció 2 veces\n",
            "El nombre Angélica apareció 1 veces\n",
            "El nombre Morena apareció 2 veces\n",
            "El nombre Jazmin apareció 1 veces\n",
            "El nombre Esmeralda apareció 1 veces\n",
            "El nombre Belen apareció 2 veces\n",
            "El nombre Jaime, apareció 1 veces\n",
            "El nombre Anita apareció 1 veces\n",
            "El nombre Lacour apareció 1 veces\n",
            "El nombre Polo, apareció 1 veces\n",
            "El nombre Nazarena apareció 1 veces\n",
            "El nombre Lascano apareció 1 veces\n",
            "El nombre Fabricio apareció 1 veces\n",
            "El nombre Lezcano, apareció 1 veces\n",
            "El nombre Celia apareció 1 veces\n",
            "El nombre Tomas apareció 1 veces\n",
            "El nombre Andres apareció 1 veces\n",
            "El nombre Portella apareció 1 veces\n",
            "El nombre Valdivia, apareció 1 veces\n",
            "El nombre Pedro apareció 1 veces\n",
            "El nombre Francisco apareció 2 veces\n",
            "El nombre Retamal apareció 1 veces\n",
            "El nombre Cisneros, apareció 1 veces\n",
            "El nombre Zacarias apareció 1 veces\n",
            "El nombre Rosales, apareció 1 veces\n",
            "El nombre Salem apareció 1 veces\n",
            "El nombre Barba, apareció 1 veces\n",
            "El nombre Mahia apareció 1 veces\n",
            "El nombre Soto apareció 1 veces\n",
            "El nombre Camara, apareció 1 veces\n",
            "El nombre Agustin apareció 1 veces\n",
            "El nombre Villalba, apareció 1 veces\n",
            "El nombre Irina apareció 1 veces\n",
            "El nombre Voltolini, apareció 1 veces\n",
            "El nombre Emanuel apareció 1 veces\n",
            "El nombre Tobias apareció 1 veces\n",
            "El nombre Zalazar, apareció 1 veces\n",
            "El nombre Stefano apareció 1 veces\n"
          ]
        }
      ]
    },
    {
      "cell_type": "markdown",
      "source": [
        "4. Genera un diccionario en python, en donde la clave sea cada apellido que aparece en las listas y el valor será la cantidad de veces que se encuentra el mismo.\n",
        "Para este punto es posible fusionar ambas listas en una sola, recordá que hay un método que realiza esta acción."
      ],
      "metadata": {
        "id": "kZeEHUYVNwGV"
      }
    },
    {
      "cell_type": "code",
      "source": [
        "dic_estudiantes = {}\n",
        "for i in estudiantes_5d:\n",
        "  if i['apellido'] in dic_estudiantes:\n",
        "    dic_estudiantes[i['apellido']] += 1\n",
        "  else:\n",
        "    dic_estudiantes[i['apellido']] = 1\n",
        "\n",
        "for i in estudiantes_5c:\n",
        "  if i ['apellido'] in dic_estudiantes:\n",
        "    dic_estudiantes[i['apellido']] += 1\n",
        "  else:\n",
        "    dic_estudiantes[i['apellido']] = 1\n",
        "\n",
        "for i in dic_estudiantes:\n",
        "  print(i, dic_estudiantes[i])"
      ],
      "metadata": {
        "id": "q05GnxXgORzt",
        "colab": {
          "base_uri": "https://localhost:8080/"
        },
        "outputId": "c1ecbb62-4141-42a0-f58f-6ebd6a5820a1"
      },
      "execution_count": 6,
      "outputs": [
        {
          "output_type": "stream",
          "name": "stdout",
          "text": [
            "Alurralde 1\n",
            "Alvarado 1\n",
            "Angel 1\n",
            "Arenas 1\n",
            "Caseres 1\n",
            "Castillo 1\n",
            "Correa Segovia 1\n",
            "D Elia 1\n",
            "Flores 1\n",
            "Geronimo Soriano 1\n",
            "GUZMAN 1\n",
            "Guzman 1\n",
            "Jaime 1\n",
            "Lacour Polo 1\n",
            "Lascano Guanca 1\n",
            "Lezcano 1\n",
            "Martinez 1\n",
            "PORTELLA VALDIVIA 1\n",
            "Retamal Cisneros 1\n",
            "Rosales 1\n",
            "Salem Barba 1\n",
            "Soto Camara 1\n",
            "Villalba 1\n",
            "Voltolini 1\n",
            "Zalazar 1\n",
            "ABUD LASPIUR 1\n",
            "Amador 1\n",
            "Anaquin 1\n",
            "Araoz Sanchez 1\n",
            "Argañaraz 1\n",
            "Barrera 1\n",
            "Barrozo Vedia 1\n",
            "Bettinelli 1\n",
            "Bracamonte Martinez 1\n",
            "Colque Rivero 1\n",
            "Diaz 1\n",
            "FIGUEROA 1\n",
            "Flores Cardozo 1\n",
            "Gallo 1\n",
            "Galvan 1\n",
            "Giangreco 1\n",
            "Grancara 1\n",
            "Guanca 1\n",
            "Lopez 1\n",
            "Mamani Garrido 1\n",
            "Marinaro 1\n",
            "Merluzzi Dagum 1\n",
            "Messina 1\n",
            "RASUK 1\n",
            "Rios 1\n",
            "Sanchez Flores 1\n",
            "Scarano 1\n",
            "Sierra 1\n",
            "Tapia 1\n",
            "Vilte 1\n",
            "Virgillito 1\n"
          ]
        }
      ]
    },
    {
      "cell_type": "markdown",
      "source": [
        "5. Solicita al usuario que ingrese un apellido y muestra  a todos los estudiantes con ese apellido."
      ],
      "metadata": {
        "id": "ywYmA2JQNp3T"
      }
    },
    {
      "cell_type": "code",
      "source": [
        "apellido = input(\"Ingrese un apellido:  \").title()\n",
        "for i in estudiantes_5d:\n",
        "  if apellido in i ['apellido']:\n",
        "    print(i)\n",
        "\n",
        "for i in estudiantes_5c:\n",
        "  if apellido in i ['apellido']:\n",
        "    print(i)\n",
        "\n"
      ],
      "metadata": {
        "id": "Cnp334ZrOCjK",
        "colab": {
          "base_uri": "https://localhost:8080/"
        },
        "outputId": "71788e7f-d992-4767-eb71-3f906bbb5743"
      },
      "execution_count": 7,
      "outputs": [
        {
          "output_type": "stream",
          "name": "stdout",
          "text": [
            "Ingrese un apellido:  Argañaraz\n",
            "{'apellido': 'Argañaraz', 'nombre': 'Agostina Abril', 'curso': '5C', 'division': 'C', 'fecha de nacimiento': '11/10/2006'}\n"
          ]
        }
      ]
    },
    {
      "cell_type": "markdown",
      "source": [
        "6. Solicita al usuario que ingrese un nombre y muestra a todos los estudiantes con el nombre ingresado."
      ],
      "metadata": {
        "id": "iAXts6saODoU"
      }
    },
    {
      "cell_type": "code",
      "source": [
        "nombre = input(\"Ingrese un nombre: \").title()\n",
        "for i in estudiantes_5d:\n",
        "  if nombre in i ['nombre']:\n",
        "    print(i)\n",
        "for i in estudiantes_5c:\n",
        "  if nombre in i ['nombre']:\n",
        "    print(i)\n"
      ],
      "metadata": {
        "id": "FMRsUlvtOJS_",
        "colab": {
          "base_uri": "https://localhost:8080/"
        },
        "outputId": "68fe749b-9651-4c8d-f8d2-780f7f4f371f"
      },
      "execution_count": 8,
      "outputs": [
        {
          "output_type": "stream",
          "name": "stdout",
          "text": [
            "Ingrese un nombre: Agostina\n",
            "{'apellido': 'Argañaraz', 'nombre': 'Agostina Abril', 'curso': '5C', 'division': 'C', 'fecha de nacimiento': '11/10/2006'}\n",
            "{'apellido': 'Mamani Garrido', 'nombre': 'Rosario Agostina', 'curso': '5C', 'division': 'C', 'fecha de nacimiento': '24/10/2006'}\n"
          ]
        }
      ]
    },
    {
      "cell_type": "markdown",
      "source": [
        "7. Busca el diccionario con tu información dentro de la lista y cámbiate de división, de tal manera que si estas en 5C, con el cambio quedes en 5D y viceversa."
      ],
      "metadata": {
        "id": "T4PFiwwdOK27"
      }
    },
    {
      "cell_type": "code",
      "source": [
        "nombre = input(\"Ingrese su nombre:  \").title()\n",
        "for i in estudiantes_5c:\n",
        "  if nombre in i['nombre']:\n",
        "    i.update({'división': 'D'})\n",
        "    i.update({'curso': '5D'})\n",
        "    print(i)\n",
        "\n",
        "for i in estudiantes_5d:\n",
        "  if nombre in i['nombre']:\n",
        "    i.update({'división': 'C'})\n",
        "    i.update({'curso': '5C'})\n",
        "    print(i)\n",
        "\n"
      ],
      "metadata": {
        "colab": {
          "base_uri": "https://localhost:8080/"
        },
        "id": "GiySutNIbDIq",
        "outputId": "11403eb7-9888-491a-d283-01a6c91c4008"
      },
      "execution_count": 9,
      "outputs": [
        {
          "output_type": "stream",
          "name": "stdout",
          "text": [
            "Ingrese su nombre:  Agostina\n",
            "{'apellido': 'Argañaraz', 'nombre': 'Agostina Abril', 'curso': '5D', 'division': 'C', 'fecha de nacimiento': '11/10/2006', 'división': 'D'}\n",
            "{'apellido': 'Mamani Garrido', 'nombre': 'Rosario Agostina', 'curso': '5D', 'division': 'C', 'fecha de nacimiento': '24/10/2006', 'división': 'D'}\n"
          ]
        }
      ]
    },
    {
      "cell_type": "markdown",
      "source": [
        "8. Ordenar la lista alfabeticamente por nombre. Ascendente y descendentemente. Para elegir como ordenarla, mostrar un menú donde el usuario podrá decidir como quiere ver la salida."
      ],
      "metadata": {
        "id": "xfy8SFlZRVGf"
      }
    },
    {
      "cell_type": "code",
      "source": [
        "print(\"\"\"\n",
        "1.Ordenar alfabeticamente por apellido de manera ascendente\n",
        "2.Ordenar alfabeticamente por apellido de manera descendente\n",
        "\"\"\")\n",
        "opcion = int(input(\"Ingrese una opción:  \"))\n",
        "if opcion ==1:\n",
        "  estudiantes_5d.sort(key=lambda x: x['nombre'])\n",
        "else:\n",
        "  estudiantes_5d.sort(key=lambda x: x ['nombre'], reverse=True)\n",
        "\n",
        "\n",
        "if opcion ==1:\n",
        "  estudiantes_5c.sort(key=lambda x: x['nombre'])\n",
        "else:\n",
        "  estudiantes_5c.sort(key=lambda x: x ['nombre'], reverse=True)\n",
        "\n",
        "print(\"\"\"\n",
        "1.Salida en lista\n",
        "2.Salida en diccionario\n",
        "\"\"\")\n",
        "opcion_b = int(input(\"Ingrese una opción:  \"))\n",
        "if opcion_b ==1:\n",
        "  print(\"Estudiantes 5D: \", [estudiante['nombre'] for estudiante in estudiantes_5d])\n",
        "  print(\"Estudiantes 5C: \", [estudiante['nombre'] for estudiante in estudiantes_5c])\n",
        "else:\n",
        "  for estudiante in estudiantes_5d:\n",
        "    print(estudiante)\n",
        "  for estudiante in estudiantes_5c:\n",
        "    print(estudiante)"
      ],
      "metadata": {
        "id": "vjQ2X9x3OmFr",
        "colab": {
          "base_uri": "https://localhost:8080/"
        },
        "outputId": "4d285ade-1b6e-460c-e9a7-fdbb945733ea"
      },
      "execution_count": 10,
      "outputs": [
        {
          "output_type": "stream",
          "name": "stdout",
          "text": [
            "\n",
            "1.Ordenar alfabeticamente por apellido de manera ascendente\n",
            "2.Ordenar alfabeticamente por apellido de manera descendente\n",
            "\n",
            "Ingrese una opción:  1\n",
            "\n",
            "1.Salida en lista\n",
            "2.Salida en diccionario\n",
            "\n",
            "Ingrese una opción:  2\n",
            "{'apellido': 'GUZMAN', 'nombre': 'ANGÉLICA MORENA', 'curso': '5D', 'division': 'D', 'fecha de nacimiento': '11/04/2007'}\n",
            "{'apellido': 'Soto Camara', 'nombre': 'Agustin Ignacio', 'curso': '5D', 'division': 'D', 'fecha de nacimiento': '07/11/2005'}\n",
            "{'apellido': 'D Elia', 'nombre': 'Alvaro Tadeo', 'curso': '5D', 'division': 'D', 'fecha de nacimiento': '27/08/2006'}\n",
            "{'apellido': 'Jaime', 'nombre': 'Anita Maria Belen', 'curso': '5D', 'division': 'D', 'fecha de nacimiento': '19/04/2007'}\n",
            "{'apellido': 'Angel', 'nombre': 'Camila Juliana', 'curso': '5D', 'division': 'D', 'fecha de nacimiento': '07/03/2007'}\n",
            "{'apellido': 'Lezcano', 'nombre': 'Celia Morena', 'curso': '5D', 'division': 'D', 'fecha de nacimiento': '01/07/2005'}\n",
            "{'apellido': 'Voltolini', 'nombre': 'Emanuel Tobias', 'curso': '5D', 'division': 'D', 'fecha de nacimiento': '17/09/2006'}\n",
            "{'apellido': 'Rosales', 'nombre': 'Francisco Gabriel', 'curso': '5D', 'division': 'D', 'fecha de nacimiento': '14/11/2006'}\n",
            "{'apellido': 'Correa Segovia', 'nombre': 'Hugo Mariano', 'curso': '5D', 'division': 'D', 'fecha de nacimiento': '04/12/2006'}\n",
            "{'apellido': 'Villalba', 'nombre': 'Irina', 'curso': '5D', 'division': 'D', 'fecha de nacimiento': '09/09/2006'}\n",
            "{'apellido': 'Guzman', 'nombre': 'Jazmin Esmeralda Belen', 'curso': '5D', 'division': 'D', 'fecha de nacimiento': '31/07/2006'}\n",
            "{'apellido': 'Geronimo Soriano', 'nombre': 'Lizzie Amaya', 'curso': '5D', 'division': 'D', 'fecha de nacimiento': '20/01/2007'}\n",
            "{'apellido': 'Arenas', 'nombre': 'Lucas Gabriel', 'curso': '5D', 'division': 'D', 'fecha de nacimiento': '26/06/2007'}\n",
            "{'apellido': 'Alvarado', 'nombre': 'Ludmila Del Milagro', 'curso': '5D', 'division': 'D', 'fecha de nacimiento': '06/09/2006'}\n",
            "{'apellido': 'Salem Barba', 'nombre': 'Mahia', 'curso': '5D', 'division': 'D', 'fecha de nacimiento': '14/10/2005'}\n",
            "{'apellido': 'Lascano Guanca', 'nombre': 'Marcelo Fabricio', 'curso': '5D', 'division': 'D', 'fecha de nacimiento': '17/02/2006'}\n",
            "{'apellido': 'Caseres', 'nombre': 'Maria Antonia', 'curso': '5D', 'division': 'D', 'fecha de nacimiento': '01/07/2006'}\n",
            "{'apellido': 'Lacour Polo', 'nombre': 'Nazarena', 'curso': '5D', 'division': 'D', 'fecha de nacimiento': '19/12/2005'}\n",
            "{'apellido': 'PORTELLA VALDIVIA', 'nombre': 'PEDRO FRANCISCO', 'curso': '5D', 'division': 'D', 'fecha de nacimiento': '24/01/2007'}\n",
            "{'apellido': 'Castillo', 'nombre': 'Paulina Milagros', 'curso': '5D', 'division': 'D', 'fecha de nacimiento': '01/06/2007'}\n",
            "{'apellido': 'Zalazar', 'nombre': 'Santino Stefano', 'curso': '5D', 'division': 'D', 'fecha de nacimiento': '30/09/2006'}\n",
            "{'apellido': 'Alurralde', 'nombre': 'Solange Stefania', 'curso': '5D', 'division': 'D', 'fecha de nacimiento': '02/04/2007'}\n",
            "{'apellido': 'Martinez', 'nombre': 'Tomas Andres', 'curso': '5D', 'division': 'D', 'fecha de nacimiento': '22/03/2007'}\n",
            "{'apellido': 'Flores', 'nombre': 'Victoria Agustina', 'curso': '5D', 'division': 'D', 'fecha de nacimiento': '12/12/2006'}\n",
            "{'apellido': 'Retamal Cisneros', 'nombre': 'Zacarias Josue', 'curso': '5D', 'division': 'D', 'fecha de nacimiento': '24/02/2007'}\n",
            "{'apellido': 'Argañaraz', 'nombre': 'Agostina Abril', 'curso': '5D', 'division': 'C', 'fecha de nacimiento': '11/10/2006', 'división': 'D'}\n",
            "{'apellido': 'Flores Cardozo', 'nombre': 'Agustina Tiara', 'curso': '5C', 'division': 'C', 'fecha de nacimiento': '18/03/2006'}\n",
            "{'apellido': 'Colque Rivero', 'nombre': 'Ariana Zoe Del Valle', 'curso': '5C', 'division': 'C', 'fecha de nacimiento': '27/12/2006'}\n",
            "{'apellido': 'Diaz', 'nombre': 'Dulce Maitena', 'curso': '5C', 'division': 'C', 'fecha de nacimiento': '11/12/2006'}\n",
            "{'apellido': 'Merluzzi Dagum', 'nombre': 'Ignacio', 'curso': '5C', 'division': 'C', 'fecha de nacimiento': '22/12/2005'}\n",
            "{'apellido': 'Barrozo Vedia', 'nombre': 'Joaquin Nicolas', 'curso': '5C', 'division': 'C', 'fecha de nacimiento': '15/04/2006'}\n",
            "{'apellido': 'RASUK', 'nombre': 'KARIM', 'curso': '5C', 'division': 'C', 'fecha de nacimiento': '13/07/2007'}\n",
            "{'apellido': 'Virgillito', 'nombre': 'Katya Milena', 'curso': '5C', 'division': 'C', 'fecha de nacimiento': '19/06/2007'}\n",
            "{'apellido': 'ABUD LASPIUR', 'nombre': 'LOURDES MARIEL', 'curso': '5C', 'division': 'C', 'fecha de nacimiento': '05/12/2006'}\n",
            "{'apellido': 'Araoz Sanchez', 'nombre': 'Lautaro Nahuel', 'curso': '5C', 'division': 'C', 'fecha de nacimiento': '28/12/2005'}\n",
            "{'apellido': 'Anaquin', 'nombre': 'Leonardo Ezequiel', 'curso': '5C', 'division': 'C', 'fecha de nacimiento': '06/09/2005'}\n",
            "{'apellido': 'Galvan', 'nombre': 'Lourdes Yamila', 'curso': '5C', 'division': 'C', 'fecha de nacimiento': '19/08/2005'}\n",
            "{'apellido': 'Amador', 'nombre': 'Luana Micaela', 'curso': '5C', 'division': 'C', 'fecha de nacimiento': '09/12/2006'}\n",
            "{'apellido': 'Sierra', 'nombre': 'Lucas Mauricio', 'curso': '5C', 'division': 'C', 'fecha de nacimiento': '03/04/2005'}\n",
            "{'apellido': 'Rios', 'nombre': 'Lucia Magali', 'curso': '5C', 'division': 'C', 'fecha de nacimiento': '22/09/2006'}\n",
            "{'apellido': 'Marinaro', 'nombre': 'Martin Ezequiel', 'curso': '5C', 'division': 'C', 'fecha de nacimiento': '03/11/2006'}\n",
            "{'apellido': 'Tapia', 'nombre': 'Martin Gabriel', 'curso': '5C', 'division': 'C', 'fecha de nacimiento': '30/05/2006'}\n",
            "{'apellido': 'Messina', 'nombre': 'Martina', 'curso': '5C', 'division': 'C', 'fecha de nacimiento': '13/07/2005'}\n",
            "{'apellido': 'Grancara', 'nombre': 'Martina Luna', 'curso': '5C', 'division': 'C', 'fecha de nacimiento': '15/12/2006'}\n",
            "{'apellido': 'Barrera', 'nombre': 'Matias Ezequiel', 'curso': '5C', 'division': 'C', 'fecha de nacimiento': '27/02/2007'}\n",
            "{'apellido': 'Sanchez Flores', 'nombre': 'Matías Agustín', 'curso': '5C', 'division': 'C', 'fecha de nacimiento': '15/02/2007'}\n",
            "{'apellido': 'Vilte', 'nombre': 'Mia Antonella Alondra', 'curso': '5C', 'division': 'C', 'fecha de nacimiento': '10/09/2005'}\n",
            "{'apellido': 'Gallo', 'nombre': 'Octavio Ismael', 'curso': '5C', 'division': 'C', 'fecha de nacimiento': '04/08/2006'}\n",
            "{'apellido': 'Scarano', 'nombre': 'Renato Marcelo', 'curso': '5C', 'division': 'C', 'fecha de nacimiento': '06/12/2006'}\n",
            "{'apellido': 'Mamani Garrido', 'nombre': 'Rosario Agostina', 'curso': '5D', 'division': 'C', 'fecha de nacimiento': '24/10/2006', 'división': 'D'}\n",
            "{'apellido': 'FIGUEROA', 'nombre': 'SANTINO JOSUE', 'curso': '5C', 'division': 'C', 'fecha de nacimiento': '12/05/2007'}\n",
            "{'apellido': 'Bracamonte Martinez', 'nombre': 'Salvador', 'curso': '5C', 'division': 'C', 'fecha de nacimiento': '02/11/2005'}\n",
            "{'apellido': 'Guanca', 'nombre': 'Sara Elizabeth', 'curso': '5C', 'division': 'C', 'fecha de nacimiento': '17/01/2007'}\n",
            "{'apellido': 'Bettinelli', 'nombre': 'Valentino', 'curso': '5C', 'division': 'C', 'fecha de nacimiento': '12/07/2006'}\n",
            "{'apellido': 'Lopez', 'nombre': 'Victoria Constanza', 'curso': '5C', 'division': 'C', 'fecha de nacimiento': '12/11/2007'}\n",
            "{'apellido': 'Giangreco', 'nombre': 'Vitto Tomasso', 'curso': '5C', 'division': 'C', 'fecha de nacimiento': '21/03/2007'}\n"
          ]
        }
      ]
    },
    {
      "cell_type": "code",
      "source": [],
      "metadata": {
        "id": "a9A8CfaTJyGT"
      },
      "execution_count": null,
      "outputs": []
    },
    {
      "cell_type": "markdown",
      "source": [
        "9. Ordenar la lista alfabeticamente por apellido. Ascendente y descendentemente. Para elegir como ordenarla, mostrar un menú donde el usuario podrá decidir como quiere ver la salida."
      ],
      "metadata": {
        "id": "lW18NgPjRcGP"
      }
    },
    {
      "cell_type": "code",
      "source": [],
      "metadata": {
        "id": "Y3eVTdEbJzLz"
      },
      "execution_count": null,
      "outputs": []
    },
    {
      "cell_type": "code",
      "source": [
        "print(\"\"\"\n",
        "1.Ordenar alfabeticamente por apellido de manera ascendente\n",
        "2.Ordenar alfabeticamente por apellido de manera descendente\n",
        "\"\"\")\n",
        "opcion = int(input(\"Ingrese una opción:  \"))\n",
        "if opcion ==1:\n",
        "  estudiantes_5d.sort(key=lambda x: x['apellido'])\n",
        "else:\n",
        "  estudiantes_5d.sort(key=lambda x: x ['apellido'], reverse=True)\n",
        "\n",
        "\n",
        "if opcion ==1:\n",
        "  estudiantes_5c.sort(key=lambda x: x['apellido'])\n",
        "else:\n",
        "  estudiantes_5c.sort(key=lambda x: x ['apellido'], reverse=True)\n",
        "\n",
        "print(\"\"\"\n",
        "1.Salida en lista\n",
        "2.Salida en diccionario\n",
        "\"\"\")\n",
        "opcion_b = int(input(\"Ingrese una opción:  \"))\n",
        "if opcion_b ==1:\n",
        "  print(\"Estudiantes 5D: \", [estudiante['apellido'] for estudiante in estudiantes_5d])\n",
        "  print(\"Estudiantes 5C: \", [estudiante['apellido'] for estudiante in estudiantes_5c])\n",
        "else:\n",
        "  for estudiante in estudiantes_5d:\n",
        "    print(estudiante)\n",
        "  for estudiante in estudiantes_5c:\n",
        "    print(estudiante)"
      ],
      "metadata": {
        "colab": {
          "base_uri": "https://localhost:8080/"
        },
        "outputId": "10b5806e-33e7-4775-ec71-9ecb507bf1e8",
        "id": "sBGe4iy8Jzkx"
      },
      "execution_count": 11,
      "outputs": [
        {
          "output_type": "stream",
          "name": "stdout",
          "text": [
            "\n",
            "1.Ordenar alfabeticamente por apellido de manera ascendente\n",
            "2.Ordenar alfabeticamente por apellido de manera descendente\n",
            "\n",
            "Ingrese una opción:  2\n",
            "\n",
            "1.Salida en lista\n",
            "2.Salida en diccionario\n",
            "\n",
            "Ingrese una opción:  1\n",
            "Estudiantes 5D:  ['Zalazar', 'Voltolini', 'Villalba', 'Soto Camara', 'Salem Barba', 'Rosales', 'Retamal Cisneros', 'PORTELLA VALDIVIA', 'Martinez', 'Lezcano', 'Lascano Guanca', 'Lacour Polo', 'Jaime', 'Guzman', 'Geronimo Soriano', 'GUZMAN', 'Flores', 'D Elia', 'Correa Segovia', 'Castillo', 'Caseres', 'Arenas', 'Angel', 'Alvarado', 'Alurralde']\n",
            "Estudiantes 5C:  ['Virgillito', 'Vilte', 'Tapia', 'Sierra', 'Scarano', 'Sanchez Flores', 'Rios', 'RASUK', 'Messina', 'Merluzzi Dagum', 'Marinaro', 'Mamani Garrido', 'Lopez', 'Guanca', 'Grancara', 'Giangreco', 'Galvan', 'Gallo', 'Flores Cardozo', 'FIGUEROA', 'Diaz', 'Colque Rivero', 'Bracamonte Martinez', 'Bettinelli', 'Barrozo Vedia', 'Barrera', 'Argañaraz', 'Araoz Sanchez', 'Anaquin', 'Amador', 'ABUD LASPIUR']\n"
          ]
        }
      ]
    },
    {
      "cell_type": "code",
      "source": [
        "\n",
        "print(\"\"\"\n",
        "\n",
        "      MENÚ DE ESTUDIANTES 5C\n",
        "      a - Ordenar de manera ascendente\n",
        "      b - Ordenar la lista de manera descendente\n",
        "      Ingrese una opción:\"\"\")\n",
        "op = input().lower()\n",
        "if op =='a':\n",
        "  estudiantes_5c.sort()\n",
        "elif op =='b':\n",
        "  estudiantes_5c.sort(reverse= True)\n",
        "else:\n",
        "  print(\"La opción ingresada no es correcta\")\n",
        "\n",
        "for estudiante in estudiantes_5c:\n",
        "  print(estudiante)\n",
        "\n",
        "\n",
        "print(\"\"\"\n",
        "\n",
        "      MENÚ DE ESTUDIANTES 5D\n",
        "      a - Ordenar de manera ascendente\n",
        "      b - Ordenar la lista de manera descendente\n",
        "      Ingrese una opción:\"\"\")\n",
        "op = input().lower()\n",
        "if op =='a':\n",
        "  estudiantes_5d.sort()\n",
        "elif op =='b':\n",
        "  estudiantes_5d.sort(reverse= True)\n",
        "else:\n",
        "  print(\"La opción ingresada no es correcta\")\n",
        "\n",
        "for estudiante in estudiantes_5d:\n",
        "  print(estudiante)"
      ],
      "metadata": {
        "colab": {
          "base_uri": "https://localhost:8080/",
          "height": 332
        },
        "id": "k-hIIV9gP11I",
        "outputId": "51d363ec-f51e-402a-dac7-d2a746d86796"
      },
      "execution_count": null,
      "outputs": [
        {
          "name": "stdout",
          "output_type": "stream",
          "text": [
            "\n",
            "\n",
            "      MENÚ DE ESTUDIANTES 5C\n",
            "      a - Ordenar de manera ascendente\n",
            "      b - Ordenar la lista de manera descendente\n",
            "      Ingrese una opción:\n",
            "a\n"
          ]
        },
        {
          "output_type": "error",
          "ename": "TypeError",
          "evalue": "'<' not supported between instances of 'dict' and 'dict'",
          "traceback": [
            "\u001b[0;31m---------------------------------------------------------------------------\u001b[0m",
            "\u001b[0;31mTypeError\u001b[0m                                 Traceback (most recent call last)",
            "\u001b[0;32m<ipython-input-63-2f5cd7674c36>\u001b[0m in \u001b[0;36m<cell line: 8>\u001b[0;34m()\u001b[0m\n\u001b[1;32m      7\u001b[0m \u001b[0mop\u001b[0m \u001b[0;34m=\u001b[0m \u001b[0minput\u001b[0m\u001b[0;34m(\u001b[0m\u001b[0;34m)\u001b[0m\u001b[0;34m.\u001b[0m\u001b[0mlower\u001b[0m\u001b[0;34m(\u001b[0m\u001b[0;34m)\u001b[0m\u001b[0;34m\u001b[0m\u001b[0;34m\u001b[0m\u001b[0m\n\u001b[1;32m      8\u001b[0m \u001b[0;32mif\u001b[0m \u001b[0mop\u001b[0m \u001b[0;34m==\u001b[0m\u001b[0;34m'a'\u001b[0m\u001b[0;34m:\u001b[0m\u001b[0;34m\u001b[0m\u001b[0;34m\u001b[0m\u001b[0m\n\u001b[0;32m----> 9\u001b[0;31m   \u001b[0mestudiantes_5c\u001b[0m\u001b[0;34m.\u001b[0m\u001b[0msort\u001b[0m\u001b[0;34m(\u001b[0m\u001b[0;34m)\u001b[0m\u001b[0;34m\u001b[0m\u001b[0;34m\u001b[0m\u001b[0m\n\u001b[0m\u001b[1;32m     10\u001b[0m \u001b[0;32melif\u001b[0m \u001b[0mop\u001b[0m \u001b[0;34m==\u001b[0m\u001b[0;34m'b'\u001b[0m\u001b[0;34m:\u001b[0m\u001b[0;34m\u001b[0m\u001b[0;34m\u001b[0m\u001b[0m\n\u001b[1;32m     11\u001b[0m   \u001b[0mestudiantes_5c\u001b[0m\u001b[0;34m.\u001b[0m\u001b[0msort\u001b[0m\u001b[0;34m(\u001b[0m\u001b[0mreverse\u001b[0m\u001b[0;34m=\u001b[0m \u001b[0;32mTrue\u001b[0m\u001b[0;34m)\u001b[0m\u001b[0;34m\u001b[0m\u001b[0;34m\u001b[0m\u001b[0m\n",
            "\u001b[0;31mTypeError\u001b[0m: '<' not supported between instances of 'dict' and 'dict'"
          ]
        }
      ]
    },
    {
      "cell_type": "markdown",
      "source": [
        "10. Ordena la lista por fecha de nacimiento, de manera ascendente y descendente."
      ],
      "metadata": {
        "id": "E24lH7x5Xbur"
      }
    },
    {
      "cell_type": "code",
      "source": [
        "from types import LambdaType\n",
        "print(\"\"\"\n",
        "1.Ordenar por fecha de nacimiento de manera ascendente\n",
        "2.Ordenar por fecha de nacimiento de manera descendente\n",
        "\"\"\")\n",
        "opcion= int(input(\"Ingrese una opcion:  \"))\n",
        "if opcion ==1:\n",
        "  estudiantes_5d.sort(key=lambda x: x['fecha_de_nacimiento'])\n",
        "else:\n",
        "  estudiantes_5d.sort(key=lambda x: x['fecha_de_nacimiento'], reverse= True)\n",
        "\n",
        "if opcion ==1:\n",
        "  estudiantes_5c.sort(key=lambda x: x['fecha_de_nacimiento'], reverse= True)\n",
        "else:\n",
        "  estudiantes_5c.sort(key=lambda x: x['fecha_de_nacimiento'], reverse= True)\n",
        "\n",
        "print(\"\"\"\n",
        "1.Salida en lista\n",
        "2.Salisa en diccionario\n",
        "\"\"\")\n",
        "\n",
        "opcion_b = int(input(\"Ingrese una opcion:  \"))\n",
        "if opcion_b ==1:\n",
        "  print(\"Estudiante 5D: \", [estudiante['fecha_de_nacimiento'] for estudiante in estudiantes_5d])\n",
        "  print(\"Estudiante 5C: \", [estudiante['fecha_de_nacimiento'] for estudiante in estudiantes_5c])\n",
        "else:\n",
        "  for estudiante in estudiantes_5d:\n",
        "    print(estudiante)\n",
        "  for estudiante in estudiantes_5c:\n",
        "    print(estudiantes)\n"
      ],
      "metadata": {
        "colab": {
          "base_uri": "https://localhost:8080/",
          "height": 443
        },
        "id": "h--qf44IdQ8R",
        "outputId": "95b2b397-3ffe-44b0-8862-083f86e01a65"
      },
      "execution_count": 14,
      "outputs": [
        {
          "name": "stdout",
          "output_type": "stream",
          "text": [
            "\n",
            "1.Ordenar por fecha de nacimiento de manera ascendente\n",
            "2.Ordenar por fecha de nacimiento de manera descendente\n",
            "\n",
            "Ingrese una opcion:  1\n"
          ]
        },
        {
          "output_type": "error",
          "ename": "KeyError",
          "evalue": "'fecha_de_nacimiento'",
          "traceback": [
            "\u001b[0;31m---------------------------------------------------------------------------\u001b[0m",
            "\u001b[0;31mKeyError\u001b[0m                                  Traceback (most recent call last)",
            "\u001b[0;32m<ipython-input-14-be6656cddea2>\u001b[0m in \u001b[0;36m<cell line: 7>\u001b[0;34m()\u001b[0m\n\u001b[1;32m      6\u001b[0m \u001b[0mopcion\u001b[0m\u001b[0;34m=\u001b[0m \u001b[0mint\u001b[0m\u001b[0;34m(\u001b[0m\u001b[0minput\u001b[0m\u001b[0;34m(\u001b[0m\u001b[0;34m\"Ingrese una opcion:  \"\u001b[0m\u001b[0;34m)\u001b[0m\u001b[0;34m)\u001b[0m\u001b[0;34m\u001b[0m\u001b[0;34m\u001b[0m\u001b[0m\n\u001b[1;32m      7\u001b[0m \u001b[0;32mif\u001b[0m \u001b[0mopcion\u001b[0m \u001b[0;34m==\u001b[0m\u001b[0;36m1\u001b[0m\u001b[0;34m:\u001b[0m\u001b[0;34m\u001b[0m\u001b[0;34m\u001b[0m\u001b[0m\n\u001b[0;32m----> 8\u001b[0;31m   \u001b[0mestudiantes_5d\u001b[0m\u001b[0;34m.\u001b[0m\u001b[0msort\u001b[0m\u001b[0;34m(\u001b[0m\u001b[0mkey\u001b[0m\u001b[0;34m=\u001b[0m\u001b[0;32mlambda\u001b[0m \u001b[0mx\u001b[0m\u001b[0;34m:\u001b[0m \u001b[0mx\u001b[0m\u001b[0;34m[\u001b[0m\u001b[0;34m'fecha_de_nacimiento'\u001b[0m\u001b[0;34m]\u001b[0m\u001b[0;34m)\u001b[0m\u001b[0;34m\u001b[0m\u001b[0;34m\u001b[0m\u001b[0m\n\u001b[0m\u001b[1;32m      9\u001b[0m \u001b[0;32melse\u001b[0m\u001b[0;34m:\u001b[0m\u001b[0;34m\u001b[0m\u001b[0;34m\u001b[0m\u001b[0m\n\u001b[1;32m     10\u001b[0m   \u001b[0mestudiantes_5d\u001b[0m\u001b[0;34m.\u001b[0m\u001b[0msort\u001b[0m\u001b[0;34m(\u001b[0m\u001b[0mkey\u001b[0m\u001b[0;34m=\u001b[0m\u001b[0;32mlambda\u001b[0m \u001b[0mx\u001b[0m\u001b[0;34m:\u001b[0m \u001b[0mx\u001b[0m\u001b[0;34m[\u001b[0m\u001b[0;34m'fecha_de_nacimiento'\u001b[0m\u001b[0;34m]\u001b[0m\u001b[0;34m,\u001b[0m \u001b[0mreverse\u001b[0m\u001b[0;34m=\u001b[0m \u001b[0;32mTrue\u001b[0m\u001b[0;34m)\u001b[0m\u001b[0;34m\u001b[0m\u001b[0;34m\u001b[0m\u001b[0m\n",
            "\u001b[0;32m<ipython-input-14-be6656cddea2>\u001b[0m in \u001b[0;36m<lambda>\u001b[0;34m(x)\u001b[0m\n\u001b[1;32m      6\u001b[0m \u001b[0mopcion\u001b[0m\u001b[0;34m=\u001b[0m \u001b[0mint\u001b[0m\u001b[0;34m(\u001b[0m\u001b[0minput\u001b[0m\u001b[0;34m(\u001b[0m\u001b[0;34m\"Ingrese una opcion:  \"\u001b[0m\u001b[0;34m)\u001b[0m\u001b[0;34m)\u001b[0m\u001b[0;34m\u001b[0m\u001b[0;34m\u001b[0m\u001b[0m\n\u001b[1;32m      7\u001b[0m \u001b[0;32mif\u001b[0m \u001b[0mopcion\u001b[0m \u001b[0;34m==\u001b[0m\u001b[0;36m1\u001b[0m\u001b[0;34m:\u001b[0m\u001b[0;34m\u001b[0m\u001b[0;34m\u001b[0m\u001b[0m\n\u001b[0;32m----> 8\u001b[0;31m   \u001b[0mestudiantes_5d\u001b[0m\u001b[0;34m.\u001b[0m\u001b[0msort\u001b[0m\u001b[0;34m(\u001b[0m\u001b[0mkey\u001b[0m\u001b[0;34m=\u001b[0m\u001b[0;32mlambda\u001b[0m \u001b[0mx\u001b[0m\u001b[0;34m:\u001b[0m \u001b[0mx\u001b[0m\u001b[0;34m[\u001b[0m\u001b[0;34m'fecha_de_nacimiento'\u001b[0m\u001b[0;34m]\u001b[0m\u001b[0;34m)\u001b[0m\u001b[0;34m\u001b[0m\u001b[0;34m\u001b[0m\u001b[0m\n\u001b[0m\u001b[1;32m      9\u001b[0m \u001b[0;32melse\u001b[0m\u001b[0;34m:\u001b[0m\u001b[0;34m\u001b[0m\u001b[0;34m\u001b[0m\u001b[0m\n\u001b[1;32m     10\u001b[0m   \u001b[0mestudiantes_5d\u001b[0m\u001b[0;34m.\u001b[0m\u001b[0msort\u001b[0m\u001b[0;34m(\u001b[0m\u001b[0mkey\u001b[0m\u001b[0;34m=\u001b[0m\u001b[0;32mlambda\u001b[0m \u001b[0mx\u001b[0m\u001b[0;34m:\u001b[0m \u001b[0mx\u001b[0m\u001b[0;34m[\u001b[0m\u001b[0;34m'fecha_de_nacimiento'\u001b[0m\u001b[0;34m]\u001b[0m\u001b[0;34m,\u001b[0m \u001b[0mreverse\u001b[0m\u001b[0;34m=\u001b[0m \u001b[0;32mTrue\u001b[0m\u001b[0;34m)\u001b[0m\u001b[0;34m\u001b[0m\u001b[0;34m\u001b[0m\u001b[0m\n",
            "\u001b[0;31mKeyError\u001b[0m: 'fecha_de_nacimiento'"
          ]
        }
      ]
    },
    {
      "cell_type": "code",
      "source": [],
      "metadata": {
        "id": "5K4FCfo_faA4"
      },
      "execution_count": null,
      "outputs": []
    },
    {
      "cell_type": "markdown",
      "source": [],
      "metadata": {
        "id": "pvn68OdIeIEN"
      }
    },
    {
      "cell_type": "markdown",
      "source": [
        "11. Generar una estuctura de diccionario anidado en donde la clave sea el nombre del estudiante y el valor sea un diccionario con los datos del mismo, de la siguiente manera:\n",
        "\n",
        "\n",
        "\n",
        "\n",
        "```python\n",
        "estudiantes = {\n",
        "    \"Juan Perez\": {\n",
        "        \"año\": 2024,\n",
        "        \"división\": \"5D\",\n",
        "        \"fecha de nacimiento\": \"15/03/2006\"\n",
        "    },\n",
        "    \"Maria Gomez\": {\n",
        "        \"año\": 2024,\n",
        "        \"división\": \"5D\",\n",
        "        \"fecha de nacimiento\": \"22/07/2006\"\n",
        "    },\n",
        "    \"Carlos Lopez\": {\n",
        "        \"año\": 2024,\n",
        "        \"división\": \"5D\",\n",
        "        \"fecha de nacimiento\": \"05/10/2006\"\n",
        "    }\n",
        "}\n",
        "```\n",
        "\n",
        "\n",
        "\n",
        "\n"
      ],
      "metadata": {
        "id": "vOY6K_ydRc3Q"
      }
    },
    {
      "cell_type": "code",
      "source": [
        "estudiantes_5d_1= {}\n",
        "for i in estudiantes_5d:\n",
        "  key = i ['apellido'] + ',' + i['nombre']\n",
        "  estudiantes_5d_1[key] = {\n",
        "      'año': 2024,\n",
        "      'división': ['division'],\n",
        "      'fecha de nacimiento': i['fecha_de_nacimiento']\n",
        "  }\n",
        "\n",
        "for i in estudiantes_5d_1:\n",
        "  print(i, estudiantes_5c_01[i])\n",
        "\n",
        "estudiantes_5c_1 = {}\n",
        "for i in estudiantes_5c:\n",
        "  key = i ['apellido'] + ',' + i['nombre']\n",
        "  estudiantes_5c_1[key] = {\n",
        "      'año':2024,\n",
        "        'división': ['division'],\n",
        "      'fecha de nacimiento': i['fecha_de_nacimiento']\n",
        "  }\n",
        "\n",
        "for i in estudiantes_5c_1:\n",
        "  print(i, estudiantes_5c_1[i])"
      ],
      "metadata": {
        "id": "9JDrd3WqRdTi",
        "colab": {
          "base_uri": "https://localhost:8080/",
          "height": 211
        },
        "outputId": "2d0a5a50-f57a-4286-e135-2ce9abf07d89"
      },
      "execution_count": null,
      "outputs": [
        {
          "output_type": "error",
          "ename": "KeyError",
          "evalue": "'fecha_de_nacimiento'",
          "traceback": [
            "\u001b[0;31m---------------------------------------------------------------------------\u001b[0m",
            "\u001b[0;31mKeyError\u001b[0m                                  Traceback (most recent call last)",
            "\u001b[0;32m<ipython-input-65-427e33013e90>\u001b[0m in \u001b[0;36m<cell line: 2>\u001b[0;34m()\u001b[0m\n\u001b[1;32m      5\u001b[0m       \u001b[0;34m'año'\u001b[0m\u001b[0;34m:\u001b[0m \u001b[0;36m2024\u001b[0m\u001b[0;34m,\u001b[0m\u001b[0;34m\u001b[0m\u001b[0;34m\u001b[0m\u001b[0m\n\u001b[1;32m      6\u001b[0m       \u001b[0;34m'división'\u001b[0m\u001b[0;34m:\u001b[0m \u001b[0;34m[\u001b[0m\u001b[0;34m'division'\u001b[0m\u001b[0;34m]\u001b[0m\u001b[0;34m,\u001b[0m\u001b[0;34m\u001b[0m\u001b[0;34m\u001b[0m\u001b[0m\n\u001b[0;32m----> 7\u001b[0;31m       \u001b[0;34m'fecha de nacimiento'\u001b[0m\u001b[0;34m:\u001b[0m \u001b[0mi\u001b[0m\u001b[0;34m[\u001b[0m\u001b[0;34m'fecha_de_nacimiento'\u001b[0m\u001b[0;34m]\u001b[0m\u001b[0;34m\u001b[0m\u001b[0;34m\u001b[0m\u001b[0m\n\u001b[0m\u001b[1;32m      8\u001b[0m   }\n\u001b[1;32m      9\u001b[0m \u001b[0;34m\u001b[0m\u001b[0m\n",
            "\u001b[0;31mKeyError\u001b[0m: 'fecha_de_nacimiento'"
          ]
        }
      ]
    }
  ]
}